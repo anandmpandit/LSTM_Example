{
  "nbformat": 4,
  "nbformat_minor": 0,
  "metadata": {
    "colab": {
      "provenance": [],
      "authorship_tag": "ABX9TyMBWWmI8Vj0S+EGb7XyJhBK",
      "include_colab_link": true
    },
    "kernelspec": {
      "name": "python3",
      "display_name": "Python 3"
    },
    "language_info": {
      "name": "python"
    }
  },
  "cells": [
    {
      "cell_type": "markdown",
      "metadata": {
        "id": "view-in-github",
        "colab_type": "text"
      },
      "source": [
        "<a href=\"https://colab.research.google.com/github/anandmpandit/LSTM_Example/blob/main/ADANIEnterprises.ipynb\" target=\"_parent\"><img src=\"https://colab.research.google.com/assets/colab-badge.svg\" alt=\"Open In Colab\"/></a>"
      ]
    },
    {
      "cell_type": "code",
      "execution_count": 117,
      "metadata": {
        "id": "vnpjF7-SXhA9"
      },
      "outputs": [],
      "source": [
        "#Description : This program uses Artificial neural network called LSTM (Long Short Term Memory) to predict closing stock price of a company\n",
        "#              AAPL using last 60 days stock price\n",
        "#Import Libraries\n",
        "import math\n",
        "import pandas_datareader as web\n",
        "import numpy as np\n",
        "import pandas as pd\n",
        "pd.options.mode.chained_assignment = None  # default='warn'\n",
        "from sklearn.preprocessing import MinMaxScaler\n",
        "from keras.models import Sequential\n",
        "from keras.layers import Dense, LSTM\n",
        "import matplotlib.pyplot as plt\n",
        "from matplotlib import style\n",
        "import datetime as dt\n",
        "plt.style.use('fivethirtyeight')\n",
        "plt.show()\n"
      ]
    },
    {
      "cell_type": "code",
      "source": [
        "#Get the yahoo finance libraries\n",
        "!pip install yfinance"
      ],
      "metadata": {
        "colab": {
          "base_uri": "https://localhost:8080/"
        },
        "id": "A7RHNPsHbV6Q",
        "outputId": "b0390de0-3b5a-4253-a831-b528fa7d639c"
      },
      "execution_count": 118,
      "outputs": [
        {
          "output_type": "stream",
          "name": "stdout",
          "text": [
            "Looking in indexes: https://pypi.org/simple, https://us-python.pkg.dev/colab-wheels/public/simple/\n",
            "Requirement already satisfied: yfinance in /usr/local/lib/python3.9/dist-packages (0.2.12)\n",
            "Requirement already satisfied: lxml>=4.9.1 in /usr/local/lib/python3.9/dist-packages (from yfinance) (4.9.2)\n",
            "Requirement already satisfied: multitasking>=0.0.7 in /usr/local/lib/python3.9/dist-packages (from yfinance) (0.0.11)\n",
            "Requirement already satisfied: frozendict>=2.3.4 in /usr/local/lib/python3.9/dist-packages (from yfinance) (2.3.5)\n",
            "Requirement already satisfied: pandas>=1.3.0 in /usr/local/lib/python3.9/dist-packages (from yfinance) (1.4.4)\n",
            "Requirement already satisfied: html5lib>=1.1 in /usr/local/lib/python3.9/dist-packages (from yfinance) (1.1)\n",
            "Requirement already satisfied: requests>=2.26 in /usr/local/lib/python3.9/dist-packages (from yfinance) (2.28.2)\n",
            "Requirement already satisfied: beautifulsoup4>=4.11.1 in /usr/local/lib/python3.9/dist-packages (from yfinance) (4.11.2)\n",
            "Requirement already satisfied: appdirs>=1.4.4 in /usr/local/lib/python3.9/dist-packages (from yfinance) (1.4.4)\n",
            "Requirement already satisfied: pytz>=2022.5 in /usr/local/lib/python3.9/dist-packages (from yfinance) (2022.7.1)\n",
            "Requirement already satisfied: numpy>=1.16.5 in /usr/local/lib/python3.9/dist-packages (from yfinance) (1.22.4)\n",
            "Requirement already satisfied: cryptography>=3.3.2 in /usr/local/lib/python3.9/dist-packages (from yfinance) (39.0.2)\n",
            "Requirement already satisfied: soupsieve>1.2 in /usr/local/lib/python3.9/dist-packages (from beautifulsoup4>=4.11.1->yfinance) (2.4)\n",
            "Requirement already satisfied: cffi>=1.12 in /usr/local/lib/python3.9/dist-packages (from cryptography>=3.3.2->yfinance) (1.15.1)\n",
            "Requirement already satisfied: webencodings in /usr/local/lib/python3.9/dist-packages (from html5lib>=1.1->yfinance) (0.5.1)\n",
            "Requirement already satisfied: six>=1.9 in /usr/local/lib/python3.9/dist-packages (from html5lib>=1.1->yfinance) (1.15.0)\n",
            "Requirement already satisfied: python-dateutil>=2.8.1 in /usr/local/lib/python3.9/dist-packages (from pandas>=1.3.0->yfinance) (2.8.2)\n",
            "Requirement already satisfied: certifi>=2017.4.17 in /usr/local/lib/python3.9/dist-packages (from requests>=2.26->yfinance) (2022.12.7)\n",
            "Requirement already satisfied: idna<4,>=2.5 in /usr/local/lib/python3.9/dist-packages (from requests>=2.26->yfinance) (2.10)\n",
            "Requirement already satisfied: urllib3<1.27,>=1.21.1 in /usr/local/lib/python3.9/dist-packages (from requests>=2.26->yfinance) (1.26.15)\n",
            "Requirement already satisfied: charset-normalizer<4,>=2 in /usr/local/lib/python3.9/dist-packages (from requests>=2.26->yfinance) (3.1.0)\n",
            "Requirement already satisfied: pycparser in /usr/local/lib/python3.9/dist-packages (from cffi>=1.12->cryptography>=3.3.2->yfinance) (2.21)\n"
          ]
        }
      ]
    },
    {
      "cell_type": "code",
      "source": [
        "import yfinance as yf\n",
        "df = yf.download('ADANIENT.NS',start='2007-01-01', end='2023-03-17')\n",
        "df"
      ],
      "metadata": {
        "colab": {
          "base_uri": "https://localhost:8080/",
          "height": 473
        },
        "id": "_IfV4hNnbetO",
        "outputId": "b92721de-4578-4673-ef24-60bd985516d5"
      },
      "execution_count": 119,
      "outputs": [
        {
          "output_type": "stream",
          "name": "stdout",
          "text": [
            "\r[*********************100%***********************]  1 of 1 completed\n"
          ]
        },
        {
          "output_type": "execute_result",
          "data": {
            "text/plain": [
              "                   Open         High          Low        Close    Adj Close  \\\n",
              "Date                                                                          \n",
              "2007-01-02    17.626631    18.028978    17.511675    17.760748    14.256759   \n",
              "2007-01-03    17.933182    18.117111    17.285595    17.653454    14.170631   \n",
              "2007-01-04    17.737757    17.875704    17.373728    17.423542    13.986080   \n",
              "2007-01-05    17.481020    18.239731    17.320082    18.074961    14.508980   \n",
              "2007-01-08    18.009819    18.239731    17.718596    17.848881    14.327505   \n",
              "...                 ...          ...          ...          ...          ...   \n",
              "2023-03-10  1870.000000  1940.000000  1820.599976  1896.199951  1896.199951   \n",
              "2023-03-13  1917.000000  1985.000000  1857.400024  1874.400024  1874.400024   \n",
              "2023-03-14  1874.000000  1874.849976  1651.349976  1738.199951  1738.199951   \n",
              "2023-03-15  1760.900024  1891.449951  1728.099976  1839.000000  1839.000000   \n",
              "2023-03-16  1861.000000  1875.000000  1795.000000  1843.800049  1843.800049   \n",
              "\n",
              "              Volume  \n",
              "Date                  \n",
              "2007-01-02   2117578  \n",
              "2007-01-03   3567325  \n",
              "2007-01-04   2319803  \n",
              "2007-01-05   7521602  \n",
              "2007-01-08   4855140  \n",
              "...              ...  \n",
              "2023-03-10   9419942  \n",
              "2023-03-13   7572604  \n",
              "2023-03-14  12679663  \n",
              "2023-03-15  12296703  \n",
              "2023-03-16   6509495  \n",
              "\n",
              "[3998 rows x 6 columns]"
            ],
            "text/html": [
              "\n",
              "  <div id=\"df-644d58c6-11f4-445f-8023-bedc039bf707\">\n",
              "    <div class=\"colab-df-container\">\n",
              "      <div>\n",
              "<style scoped>\n",
              "    .dataframe tbody tr th:only-of-type {\n",
              "        vertical-align: middle;\n",
              "    }\n",
              "\n",
              "    .dataframe tbody tr th {\n",
              "        vertical-align: top;\n",
              "    }\n",
              "\n",
              "    .dataframe thead th {\n",
              "        text-align: right;\n",
              "    }\n",
              "</style>\n",
              "<table border=\"1\" class=\"dataframe\">\n",
              "  <thead>\n",
              "    <tr style=\"text-align: right;\">\n",
              "      <th></th>\n",
              "      <th>Open</th>\n",
              "      <th>High</th>\n",
              "      <th>Low</th>\n",
              "      <th>Close</th>\n",
              "      <th>Adj Close</th>\n",
              "      <th>Volume</th>\n",
              "    </tr>\n",
              "    <tr>\n",
              "      <th>Date</th>\n",
              "      <th></th>\n",
              "      <th></th>\n",
              "      <th></th>\n",
              "      <th></th>\n",
              "      <th></th>\n",
              "      <th></th>\n",
              "    </tr>\n",
              "  </thead>\n",
              "  <tbody>\n",
              "    <tr>\n",
              "      <th>2007-01-02</th>\n",
              "      <td>17.626631</td>\n",
              "      <td>18.028978</td>\n",
              "      <td>17.511675</td>\n",
              "      <td>17.760748</td>\n",
              "      <td>14.256759</td>\n",
              "      <td>2117578</td>\n",
              "    </tr>\n",
              "    <tr>\n",
              "      <th>2007-01-03</th>\n",
              "      <td>17.933182</td>\n",
              "      <td>18.117111</td>\n",
              "      <td>17.285595</td>\n",
              "      <td>17.653454</td>\n",
              "      <td>14.170631</td>\n",
              "      <td>3567325</td>\n",
              "    </tr>\n",
              "    <tr>\n",
              "      <th>2007-01-04</th>\n",
              "      <td>17.737757</td>\n",
              "      <td>17.875704</td>\n",
              "      <td>17.373728</td>\n",
              "      <td>17.423542</td>\n",
              "      <td>13.986080</td>\n",
              "      <td>2319803</td>\n",
              "    </tr>\n",
              "    <tr>\n",
              "      <th>2007-01-05</th>\n",
              "      <td>17.481020</td>\n",
              "      <td>18.239731</td>\n",
              "      <td>17.320082</td>\n",
              "      <td>18.074961</td>\n",
              "      <td>14.508980</td>\n",
              "      <td>7521602</td>\n",
              "    </tr>\n",
              "    <tr>\n",
              "      <th>2007-01-08</th>\n",
              "      <td>18.009819</td>\n",
              "      <td>18.239731</td>\n",
              "      <td>17.718596</td>\n",
              "      <td>17.848881</td>\n",
              "      <td>14.327505</td>\n",
              "      <td>4855140</td>\n",
              "    </tr>\n",
              "    <tr>\n",
              "      <th>...</th>\n",
              "      <td>...</td>\n",
              "      <td>...</td>\n",
              "      <td>...</td>\n",
              "      <td>...</td>\n",
              "      <td>...</td>\n",
              "      <td>...</td>\n",
              "    </tr>\n",
              "    <tr>\n",
              "      <th>2023-03-10</th>\n",
              "      <td>1870.000000</td>\n",
              "      <td>1940.000000</td>\n",
              "      <td>1820.599976</td>\n",
              "      <td>1896.199951</td>\n",
              "      <td>1896.199951</td>\n",
              "      <td>9419942</td>\n",
              "    </tr>\n",
              "    <tr>\n",
              "      <th>2023-03-13</th>\n",
              "      <td>1917.000000</td>\n",
              "      <td>1985.000000</td>\n",
              "      <td>1857.400024</td>\n",
              "      <td>1874.400024</td>\n",
              "      <td>1874.400024</td>\n",
              "      <td>7572604</td>\n",
              "    </tr>\n",
              "    <tr>\n",
              "      <th>2023-03-14</th>\n",
              "      <td>1874.000000</td>\n",
              "      <td>1874.849976</td>\n",
              "      <td>1651.349976</td>\n",
              "      <td>1738.199951</td>\n",
              "      <td>1738.199951</td>\n",
              "      <td>12679663</td>\n",
              "    </tr>\n",
              "    <tr>\n",
              "      <th>2023-03-15</th>\n",
              "      <td>1760.900024</td>\n",
              "      <td>1891.449951</td>\n",
              "      <td>1728.099976</td>\n",
              "      <td>1839.000000</td>\n",
              "      <td>1839.000000</td>\n",
              "      <td>12296703</td>\n",
              "    </tr>\n",
              "    <tr>\n",
              "      <th>2023-03-16</th>\n",
              "      <td>1861.000000</td>\n",
              "      <td>1875.000000</td>\n",
              "      <td>1795.000000</td>\n",
              "      <td>1843.800049</td>\n",
              "      <td>1843.800049</td>\n",
              "      <td>6509495</td>\n",
              "    </tr>\n",
              "  </tbody>\n",
              "</table>\n",
              "<p>3998 rows × 6 columns</p>\n",
              "</div>\n",
              "      <button class=\"colab-df-convert\" onclick=\"convertToInteractive('df-644d58c6-11f4-445f-8023-bedc039bf707')\"\n",
              "              title=\"Convert this dataframe to an interactive table.\"\n",
              "              style=\"display:none;\">\n",
              "        \n",
              "  <svg xmlns=\"http://www.w3.org/2000/svg\" height=\"24px\"viewBox=\"0 0 24 24\"\n",
              "       width=\"24px\">\n",
              "    <path d=\"M0 0h24v24H0V0z\" fill=\"none\"/>\n",
              "    <path d=\"M18.56 5.44l.94 2.06.94-2.06 2.06-.94-2.06-.94-.94-2.06-.94 2.06-2.06.94zm-11 1L8.5 8.5l.94-2.06 2.06-.94-2.06-.94L8.5 2.5l-.94 2.06-2.06.94zm10 10l.94 2.06.94-2.06 2.06-.94-2.06-.94-.94-2.06-.94 2.06-2.06.94z\"/><path d=\"M17.41 7.96l-1.37-1.37c-.4-.4-.92-.59-1.43-.59-.52 0-1.04.2-1.43.59L10.3 9.45l-7.72 7.72c-.78.78-.78 2.05 0 2.83L4 21.41c.39.39.9.59 1.41.59.51 0 1.02-.2 1.41-.59l7.78-7.78 2.81-2.81c.8-.78.8-2.07 0-2.86zM5.41 20L4 18.59l7.72-7.72 1.47 1.35L5.41 20z\"/>\n",
              "  </svg>\n",
              "      </button>\n",
              "      \n",
              "  <style>\n",
              "    .colab-df-container {\n",
              "      display:flex;\n",
              "      flex-wrap:wrap;\n",
              "      gap: 12px;\n",
              "    }\n",
              "\n",
              "    .colab-df-convert {\n",
              "      background-color: #E8F0FE;\n",
              "      border: none;\n",
              "      border-radius: 50%;\n",
              "      cursor: pointer;\n",
              "      display: none;\n",
              "      fill: #1967D2;\n",
              "      height: 32px;\n",
              "      padding: 0 0 0 0;\n",
              "      width: 32px;\n",
              "    }\n",
              "\n",
              "    .colab-df-convert:hover {\n",
              "      background-color: #E2EBFA;\n",
              "      box-shadow: 0px 1px 2px rgba(60, 64, 67, 0.3), 0px 1px 3px 1px rgba(60, 64, 67, 0.15);\n",
              "      fill: #174EA6;\n",
              "    }\n",
              "\n",
              "    [theme=dark] .colab-df-convert {\n",
              "      background-color: #3B4455;\n",
              "      fill: #D2E3FC;\n",
              "    }\n",
              "\n",
              "    [theme=dark] .colab-df-convert:hover {\n",
              "      background-color: #434B5C;\n",
              "      box-shadow: 0px 1px 3px 1px rgba(0, 0, 0, 0.15);\n",
              "      filter: drop-shadow(0px 1px 2px rgba(0, 0, 0, 0.3));\n",
              "      fill: #FFFFFF;\n",
              "    }\n",
              "  </style>\n",
              "\n",
              "      <script>\n",
              "        const buttonEl =\n",
              "          document.querySelector('#df-644d58c6-11f4-445f-8023-bedc039bf707 button.colab-df-convert');\n",
              "        buttonEl.style.display =\n",
              "          google.colab.kernel.accessAllowed ? 'block' : 'none';\n",
              "\n",
              "        async function convertToInteractive(key) {\n",
              "          const element = document.querySelector('#df-644d58c6-11f4-445f-8023-bedc039bf707');\n",
              "          const dataTable =\n",
              "            await google.colab.kernel.invokeFunction('convertToInteractive',\n",
              "                                                     [key], {});\n",
              "          if (!dataTable) return;\n",
              "\n",
              "          const docLinkHtml = 'Like what you see? Visit the ' +\n",
              "            '<a target=\"_blank\" href=https://colab.research.google.com/notebooks/data_table.ipynb>data table notebook</a>'\n",
              "            + ' to learn more about interactive tables.';\n",
              "          element.innerHTML = '';\n",
              "          dataTable['output_type'] = 'display_data';\n",
              "          await google.colab.output.renderOutput(dataTable, element);\n",
              "          const docLink = document.createElement('div');\n",
              "          docLink.innerHTML = docLinkHtml;\n",
              "          element.appendChild(docLink);\n",
              "        }\n",
              "      </script>\n",
              "    </div>\n",
              "  </div>\n",
              "  "
            ]
          },
          "metadata": {},
          "execution_count": 119
        }
      ]
    },
    {
      "cell_type": "code",
      "source": [
        "df.shape"
      ],
      "metadata": {
        "colab": {
          "base_uri": "https://localhost:8080/"
        },
        "id": "gSPR1RDybyrj",
        "outputId": "a176a64e-c04b-475f-db47-84e9a61f5316"
      },
      "execution_count": 120,
      "outputs": [
        {
          "output_type": "execute_result",
          "data": {
            "text/plain": [
              "(3998, 6)"
            ]
          },
          "metadata": {},
          "execution_count": 120
        }
      ]
    },
    {
      "cell_type": "code",
      "source": [
        "#Visualize closing price history\n",
        "\n",
        "plt.figure(figsize=(16,8))\n",
        "plt.title('ADANI Enterprises Closing price history')\n",
        "plt.plot(df['Close'])\n",
        "plt.xlabel('Date',fontsize=18)\n",
        "plt.ylabel('Close price INR (Rs)',fontsize=18)\n",
        "plt.show()"
      ],
      "metadata": {
        "colab": {
          "base_uri": "https://localhost:8080/",
          "height": 558
        },
        "id": "iJNOLM7Ib5SK",
        "outputId": "db656f44-0611-4584-fd64-7dabe7d4df82"
      },
      "execution_count": 121,
      "outputs": [
        {
          "output_type": "display_data",
          "data": {
            "text/plain": [
              "<Figure size 1152x576 with 1 Axes>"
            ],
            "image/png": "[encoded data removed]"
          },
          "metadata": {}
        }
      ]
    },
    {
      "cell_type": "code",
      "source": [
        "#Create new data frame with only the close price column\n",
        "data = df.filter(['Close'])\n",
        "print(data)\n",
        "\n",
        "#Convert the dataframe to a numpy array\n",
        "dataset = data.values\n",
        "\n",
        "print(dataset)\n",
        "\n",
        "#Get no of rows to train the model \n",
        "training_data_len = math.ceil(len(dataset) * .8)\n",
        "\n",
        "training_data_len"
      ],
      "metadata": {
        "colab": {
          "base_uri": "https://localhost:8080/"
        },
        "id": "aXUDovQPcXyz",
        "outputId": "b23f8d1f-fe9f-49a9-edce-f4bcf411a6ad"
      },
      "execution_count": 122,
      "outputs": [
        {
          "output_type": "stream",
          "name": "stdout",
          "text": [
            "                  Close\n",
            "Date                   \n",
            "2007-01-02    17.760748\n",
            "2007-01-03    17.653454\n",
            "2007-01-04    17.423542\n",
            "2007-01-05    18.074961\n",
            "2007-01-08    17.848881\n",
            "...                 ...\n",
            "2023-03-10  1896.199951\n",
            "2023-03-13  1874.400024\n",
            "2023-03-14  1738.199951\n",
            "2023-03-15  1839.000000\n",
            "2023-03-16  1843.800049\n",
            "\n",
            "[3998 rows x 1 columns]\n",
            "[[  17.76074791]\n",
            " [  17.65345383]\n",
            " [  17.42354202]\n",
            " ...\n",
            " [1738.19995117]\n",
            " [1839.        ]\n",
            " [1843.80004883]]\n"
          ]
        },
        {
          "output_type": "execute_result",
          "data": {
            "text/plain": [
              "3199"
            ]
          },
          "metadata": {},
          "execution_count": 122
        }
      ]
    },
    {
      "cell_type": "code",
      "source": [
        "#Scale the data\n",
        "scaler = MinMaxScaler(feature_range=(0,1))\n",
        "scaled_data = scaler.fit_transform(dataset)\n",
        "\n",
        "scaled_data "
      ],
      "metadata": {
        "colab": {
          "base_uri": "https://localhost:8080/"
        },
        "id": "2i4qDL69cfwD",
        "outputId": "2aaafeb8-733e-4826-c3f0-a66eb7e6db55"
      },
      "execution_count": 123,
      "outputs": [
        {
          "output_type": "execute_result",
          "data": {
            "text/plain": [
              "array([[0.00084004],\n",
              "       [0.00081419],\n",
              "       [0.0007588 ],\n",
              "       ...,\n",
              "       [0.41530123],\n",
              "       [0.43958439],\n",
              "       [0.44074074]])"
            ]
          },
          "metadata": {},
          "execution_count": 123
        }
      ]
    },
    {
      "cell_type": "code",
      "source": [
        "#Create training dataset\n",
        "#Create scaled training dataset\n",
        "train_data = scaled_data[0:training_data_len,:]\n",
        "\n",
        "print(train_data)\n",
        "#Split the dataset x_train and y_train datasets\n",
        "x_train = []\n",
        "y_train = []\n",
        "\n",
        "for i in range(60,len(train_data)):\n",
        "  x_train.append(train_data[i-60:i,0])\n",
        "  y_train.append(train_data[i,0])\n",
        "  if i<=61:\n",
        "    print(x_train)\n",
        "    print(y_train)\n",
        "    print()\n"
      ],
      "metadata": {
        "colab": {
          "base_uri": "https://localhost:8080/"
        },
        "id": "b0J6sN-xclBK",
        "outputId": "d06148c4-4a62-41af-d4b5-dfd4b35295b6"
      },
      "execution_count": 124,
      "outputs": [
        {
          "output_type": "stream",
          "name": "stdout",
          "text": [
            "[[0.00084004]\n",
            " [0.00081419]\n",
            " [0.0007588 ]\n",
            " ...\n",
            " [0.04693448]\n",
            " [0.04682607]\n",
            " [0.04675381]]\n",
            "[array([8.40035450e-04, 8.14187845e-04, 7.58801104e-04, 9.15730662e-04,\n",
            "       8.61267034e-04, 7.08029925e-04, 6.25872467e-04, 6.77566758e-04,\n",
            "       7.18183701e-04, 7.42185082e-04, 6.72951197e-04, 7.91110036e-04,\n",
            "       7.56031767e-04, 6.66489410e-04, 6.71104972e-04, 6.11102669e-04,\n",
            "       6.28641804e-04, 6.70181859e-04, 6.48950276e-04, 8.16034069e-04,\n",
            "       9.44347145e-04, 9.85887200e-04, 9.86810313e-04, 1.20466574e-03,\n",
            "       1.00434991e-03, 9.42500920e-04, 7.25569060e-04, 4.38480202e-04,\n",
            "       5.29868324e-04, 7.72647789e-04, 7.48646868e-04, 6.55412062e-04,\n",
            "       5.88947973e-04, 5.64947052e-04, 5.86178636e-04, 4.94790055e-04,\n",
            "       5.13252301e-04, 4.80020257e-04, 4.47710866e-04, 4.20940608e-04,\n",
            "       3.67400092e-04, 1.37544429e-04, 5.53890381e-06, 0.00000000e+00,\n",
            "       1.26466851e-04, 1.16312615e-04, 1.92931399e-04, 2.26163443e-04,\n",
            "       1.08004604e-04, 1.41236648e-04, 1.39390653e-04, 1.88315607e-04,\n",
            "       1.46775552e-04, 2.09547191e-04, 3.09243784e-04, 3.73861878e-04,\n",
            "       3.56322743e-04, 2.66780616e-04, 3.89554788e-04, 4.39403314e-04])]\n",
            "[0.0003424760582404836]\n",
            "\n",
            "[array([8.40035450e-04, 8.14187845e-04, 7.58801104e-04, 9.15730662e-04,\n",
            "       8.61267034e-04, 7.08029925e-04, 6.25872467e-04, 6.77566758e-04,\n",
            "       7.18183701e-04, 7.42185082e-04, 6.72951197e-04, 7.91110036e-04,\n",
            "       7.56031767e-04, 6.66489410e-04, 6.71104972e-04, 6.11102669e-04,\n",
            "       6.28641804e-04, 6.70181859e-04, 6.48950276e-04, 8.16034069e-04,\n",
            "       9.44347145e-04, 9.85887200e-04, 9.86810313e-04, 1.20466574e-03,\n",
            "       1.00434991e-03, 9.42500920e-04, 7.25569060e-04, 4.38480202e-04,\n",
            "       5.29868324e-04, 7.72647789e-04, 7.48646868e-04, 6.55412062e-04,\n",
            "       5.88947973e-04, 5.64947052e-04, 5.86178636e-04, 4.94790055e-04,\n",
            "       5.13252301e-04, 4.80020257e-04, 4.47710866e-04, 4.20940608e-04,\n",
            "       3.67400092e-04, 1.37544429e-04, 5.53890381e-06, 0.00000000e+00,\n",
            "       1.26466851e-04, 1.16312615e-04, 1.92931399e-04, 2.26163443e-04,\n",
            "       1.08004604e-04, 1.41236648e-04, 1.39390653e-04, 1.88315607e-04,\n",
            "       1.46775552e-04, 2.09547191e-04, 3.09243784e-04, 3.73861878e-04,\n",
            "       3.56322743e-04, 2.66780616e-04, 3.89554788e-04, 4.39403314e-04]), array([8.14187845e-04, 7.58801104e-04, 9.15730662e-04, 8.61267034e-04,\n",
            "       7.08029925e-04, 6.25872467e-04, 6.77566758e-04, 7.18183701e-04,\n",
            "       7.42185082e-04, 6.72951197e-04, 7.91110036e-04, 7.56031767e-04,\n",
            "       6.66489410e-04, 6.71104972e-04, 6.11102669e-04, 6.28641804e-04,\n",
            "       6.70181859e-04, 6.48950276e-04, 8.16034069e-04, 9.44347145e-04,\n",
            "       9.85887200e-04, 9.86810313e-04, 1.20466574e-03, 1.00434991e-03,\n",
            "       9.42500920e-04, 7.25569060e-04, 4.38480202e-04, 5.29868324e-04,\n",
            "       7.72647789e-04, 7.48646868e-04, 6.55412062e-04, 5.88947973e-04,\n",
            "       5.64947052e-04, 5.86178636e-04, 4.94790055e-04, 5.13252301e-04,\n",
            "       4.80020257e-04, 4.47710866e-04, 4.20940608e-04, 3.67400092e-04,\n",
            "       1.37544429e-04, 5.53890381e-06, 0.00000000e+00, 1.26466851e-04,\n",
            "       1.16312615e-04, 1.92931399e-04, 2.26163443e-04, 1.08004604e-04,\n",
            "       1.41236648e-04, 1.39390653e-04, 1.88315607e-04, 1.46775552e-04,\n",
            "       2.09547191e-04, 3.09243784e-04, 3.73861878e-04, 3.56322743e-04,\n",
            "       2.66780616e-04, 3.89554788e-04, 4.39403314e-04, 3.42476058e-04])]\n",
            "[0.0003424760582404836, 0.0003812467767055853]\n",
            "\n"
          ]
        }
      ]
    },
    {
      "cell_type": "code",
      "source": [
        "#Convert the x_train and y_train to numpy arrays\n",
        "x_train, y_train = np.array(x_train), np.array(y_train)\n",
        "\n",
        "print (x_train)\n",
        "print (y_train)\n",
        "\n",
        "x_train.shape\n",
        "\n",
        "#Reshape the data\n",
        "x_train = np.reshape(x_train, (x_train.shape[0], x_train.shape[1], 1))\n",
        "x_train.shape"
      ],
      "metadata": {
        "colab": {
          "base_uri": "https://localhost:8080/"
        },
        "id": "F7KIdu6tcqpQ",
        "outputId": "e25f5bbc-2c5d-4f33-c03a-4aef4d7f48e4"
      },
      "execution_count": 125,
      "outputs": [
        {
          "output_type": "stream",
          "name": "stdout",
          "text": [
            "[[0.00084004 0.00081419 0.0007588  ... 0.00026678 0.00038955 0.0004394 ]\n",
            " [0.00081419 0.0007588  0.00091573 ... 0.00038955 0.0004394  0.00034248]\n",
            " [0.0007588  0.00091573 0.00086127 ... 0.0004394  0.00034248 0.00038125]\n",
            " ...\n",
            " [0.03256454 0.03169729 0.0311673  ... 0.04824741 0.04694653 0.04689835]\n",
            " [0.03169729 0.0311673  0.03114321 ... 0.04694653 0.04689835 0.04693448]\n",
            " [0.0311673  0.03114321 0.030288   ... 0.04689835 0.04693448 0.04682607]]\n",
            "[0.00034248 0.00038125 0.00045602 ... 0.04693448 0.04682607 0.04675381]\n"
          ]
        },
        {
          "output_type": "execute_result",
          "data": {
            "text/plain": [
              "(3139, 60, 1)"
            ]
          },
          "metadata": {},
          "execution_count": 125
        }
      ]
    },
    {
      "cell_type": "code",
      "source": [
        "#Build the model\n",
        "model = Sequential()\n",
        "model.add(LSTM(100, return_sequences=True, input_shape= (x_train.shape[1],1)))\n",
        "model.add(LSTM(100, return_sequences=False))\n",
        "model.add(Dense(50))\n",
        "model.add(Dense(1))"
      ],
      "metadata": {
        "id": "aVeeaxGcc4m7"
      },
      "execution_count": 126,
      "outputs": []
    },
    {
      "cell_type": "code",
      "source": [
        "#Compile the model\n",
        "model.compile(optimizer='adam',loss='mean_squared_error')"
      ],
      "metadata": {
        "id": "5gSWpkFkdG92"
      },
      "execution_count": 127,
      "outputs": []
    },
    {
      "cell_type": "code",
      "source": [
        "#Train the model\n",
        "model.fit(x_train,y_train, batch_size=1, epochs=1,verbose=\"auto\")"
      ],
      "metadata": {
        "colab": {
          "base_uri": "https://localhost:8080/"
        },
        "id": "h2Y6C0Y1dOXg",
        "outputId": "74c55b8d-26e7-4ddb-87bb-53adf765cd2e"
      },
      "execution_count": 128,
      "outputs": [
        {
          "output_type": "stream",
          "name": "stdout",
          "text": [
            "3139/3139 [==============================] - 168s 52ms/step - loss: 1.0662e-05\n"
          ]
        },
        {
          "output_type": "execute_result",
          "data": {
            "text/plain": [
              "<keras.callbacks.History at 0x7f9a26553fd0>"
            ]
          },
          "metadata": {},
          "execution_count": 128
        }
      ]
    },
    {
      "cell_type": "code",
      "source": [
        "#Create a test data set\n",
        "#Create a new array containing scaled values from index 3262 to 4077\n",
        "print(training_data_len)\n",
        "test_data = scaled_data[training_data_len - 60:,:]\n",
        "\n",
        "\n",
        "#Create data sets x_test and y_test\n",
        "x_test =[]\n",
        "y_test =dataset[training_data_len:,:]\n",
        "\n",
        "for i in range(60,len(test_data)):\n",
        "  x_test.append(test_data[i-60:i,0])\n",
        "\n",
        "\n",
        "\n",
        "#Convert data to a numpy array\n",
        "x_test = np.array(x_test)\n",
        "\n",
        "\n",
        "#Reshape the data\n",
        "x_test = np.reshape(x_test,(x_test.shape[0], x_test.shape[1],1))\n"
      ],
      "metadata": {
        "colab": {
          "base_uri": "https://localhost:8080/"
        },
        "id": "rIBZ5zrTeCmi",
        "outputId": "01006b45-8c82-44df-86e7-c3ff3184546d"
      },
      "execution_count": 129,
      "outputs": [
        {
          "output_type": "stream",
          "name": "stdout",
          "text": [
            "3199\n"
          ]
        }
      ]
    },
    {
      "cell_type": "code",
      "source": [
        "#Get the models predicted price values\n",
        "predictions = model.predict(x_test)\n",
        "predictions = scaler.inverse_transform(predictions)"
      ],
      "metadata": {
        "colab": {
          "base_uri": "https://localhost:8080/"
        },
        "id": "NIsKk3d0eUdo",
        "outputId": "bb522594-7d3f-4981-ca3e-5193cec3fd97"
      },
      "execution_count": 130,
      "outputs": [
        {
          "output_type": "stream",
          "name": "stdout",
          "text": [
            "25/25 [==============================] - 2s 35ms/step\n"
          ]
        }
      ]
    },
    {
      "cell_type": "code",
      "source": [
        "#Get the root mean sqaured error (RMSE) for the model\n",
        "rmse=np.sqrt(np.mean(((predictions- y_test)**2)))\n",
        "rmse\n"
      ],
      "metadata": {
        "colab": {
          "base_uri": "https://localhost:8080/"
        },
        "id": "ni1IUVKMem-s",
        "outputId": "b02a4dae-c1f2-4ba4-dc76-95a2390d2b87"
      },
      "execution_count": 131,
      "outputs": [
        {
          "output_type": "execute_result",
          "data": {
            "text/plain": [
              "317.6589804888671"
            ]
          },
          "metadata": {},
          "execution_count": 131
        }
      ]
    },
    {
      "cell_type": "code",
      "source": [
        "#plot the data\n",
        "train = data[:training_data_len]\n",
        "valid = data[training_data_len:]\n",
        "\n",
        "print(valid)\n",
        "#valid['predictions'] = predictions\n",
        "valid.loc[:,('predictions')] = predictions\n",
        "print(valid)\n"
      ],
      "metadata": {
        "colab": {
          "base_uri": "https://localhost:8080/"
        },
        "id": "AudaSw66es_Z",
        "outputId": "b672d46d-b13a-4a2d-b3eb-c8f073d497cb"
      },
      "execution_count": 132,
      "outputs": [
        {
          "output_type": "stream",
          "name": "stdout",
          "text": [
            "                  Close\n",
            "Date                   \n",
            "2020-01-01   207.850006\n",
            "2020-01-02   211.199997\n",
            "2020-01-03   208.300003\n",
            "2020-01-06   199.550003\n",
            "2020-01-07   204.050003\n",
            "...                 ...\n",
            "2023-03-10  1896.199951\n",
            "2023-03-13  1874.400024\n",
            "2023-03-14  1738.199951\n",
            "2023-03-15  1839.000000\n",
            "2023-03-16  1843.800049\n",
            "\n",
            "[799 rows x 1 columns]\n",
            "                  Close  predictions\n",
            "Date                                \n",
            "2020-01-01   207.850006   184.953110\n",
            "2020-01-02   211.199997   184.421463\n",
            "2020-01-03   208.300003   184.682892\n",
            "2020-01-06   199.550003   184.653305\n",
            "2020-01-07   204.050003   182.878586\n",
            "...                 ...          ...\n",
            "2023-03-10  1896.199951  1638.165894\n",
            "2023-03-13  1874.400024  1663.867920\n",
            "2023-03-14  1738.199951  1662.944824\n",
            "2023-03-15  1839.000000  1626.436157\n",
            "2023-03-16  1843.800049  1600.785889\n",
            "\n",
            "[799 rows x 2 columns]\n"
          ]
        }
      ]
    },
    {
      "cell_type": "code",
      "source": [
        "\n",
        "#Visualize the data\n",
        "plt.figure(figsize=(16,8))\n",
        "plt.title('ADANI Enterprises Prediction Model')\n",
        "plt.xlabel('Date', fontsize=18)\n",
        "plt.ylabel('Closing price INR (Rs)', fontsize=18)\n",
        "plt.plot(train['Close'])\n",
        "plt.plot(valid[['Close', 'predictions']])\n",
        "plt.legend(['Train','Valid','predictions'], loc='lower right')\n",
        "plt.show"
      ],
      "metadata": {
        "colab": {
          "base_uri": "https://localhost:8080/",
          "height": 576
        },
        "id": "7LBQU4rJ3vU8",
        "outputId": "b151d4d9-c3ea-4365-9dea-e902fbd3a4b5"
      },
      "execution_count": 133,
      "outputs": [
        {
          "output_type": "execute_result",
          "data": {
            "text/plain": [
              "<function matplotlib.pyplot.show(close=None, block=None)>"
            ]
          },
          "metadata": {},
          "execution_count": 133
        },
        {
          "output_type": "display_data",
          "data": {
            "text/plain": [
              "<Figure size 1152x576 with 1 Axes>"
            ],
            "image/png": "[encoded data removed]"
          },
          "metadata": {}
        }
      ]
    },
    {
      "cell_type": "code",
      "source": [
        "#Show valid(Actual) and predicted stock prices \n",
        "valid\n"
      ],
      "metadata": {
        "colab": {
          "base_uri": "https://localhost:8080/",
          "height": 455
        },
        "id": "TFFgtKOafeTU",
        "outputId": "fd5f541e-cc1f-4db5-d3de-bcd32c8eb837"
      },
      "execution_count": 134,
      "outputs": [
        {
          "output_type": "execute_result",
          "data": {
            "text/plain": [
              "                  Close  predictions\n",
              "Date                                \n",
              "2020-01-01   207.850006   184.953110\n",
              "2020-01-02   211.199997   184.421463\n",
              "2020-01-03   208.300003   184.682892\n",
              "2020-01-06   199.550003   184.653305\n",
              "2020-01-07   204.050003   182.878586\n",
              "...                 ...          ...\n",
              "2023-03-10  1896.199951  1638.165894\n",
              "2023-03-13  1874.400024  1663.867920\n",
              "2023-03-14  1738.199951  1662.944824\n",
              "2023-03-15  1839.000000  1626.436157\n",
              "2023-03-16  1843.800049  1600.785889\n",
              "\n",
              "[799 rows x 2 columns]"
            ],
            "text/html": [
              "\n",
              "  <div id=\"df-3a950ff8-af62-4d3c-a513-cc2d6f8b5ab3\">\n",
              "    <div class=\"colab-df-container\">\n",
              "      <div>\n",
              "<style scoped>\n",
              "    .dataframe tbody tr th:only-of-type {\n",
              "        vertical-align: middle;\n",
              "    }\n",
              "\n",
              "    .dataframe tbody tr th {\n",
              "        vertical-align: top;\n",
              "    }\n",
              "\n",
              "    .dataframe thead th {\n",
              "        text-align: right;\n",
              "    }\n",
              "</style>\n",
              "<table border=\"1\" class=\"dataframe\">\n",
              "  <thead>\n",
              "    <tr style=\"text-align: right;\">\n",
              "      <th></th>\n",
              "      <th>Close</th>\n",
              "      <th>predictions</th>\n",
              "    </tr>\n",
              "    <tr>\n",
              "      <th>Date</th>\n",
              "      <th></th>\n",
              "      <th></th>\n",
              "    </tr>\n",
              "  </thead>\n",
              "  <tbody>\n",
              "    <tr>\n",
              "      <th>2020-01-01</th>\n",
              "      <td>207.850006</td>\n",
              "      <td>184.953110</td>\n",
              "    </tr>\n",
              "    <tr>\n",
              "      <th>2020-01-02</th>\n",
              "      <td>211.199997</td>\n",
              "      <td>184.421463</td>\n",
              "    </tr>\n",
              "    <tr>\n",
              "      <th>2020-01-03</th>\n",
              "      <td>208.300003</td>\n",
              "      <td>184.682892</td>\n",
              "    </tr>\n",
              "    <tr>\n",
              "      <th>2020-01-06</th>\n",
              "      <td>199.550003</td>\n",
              "      <td>184.653305</td>\n",
              "    </tr>\n",
              "    <tr>\n",
              "      <th>2020-01-07</th>\n",
              "      <td>204.050003</td>\n",
              "      <td>182.878586</td>\n",
              "    </tr>\n",
              "    <tr>\n",
              "      <th>...</th>\n",
              "      <td>...</td>\n",
              "      <td>...</td>\n",
              "    </tr>\n",
              "    <tr>\n",
              "      <th>2023-03-10</th>\n",
              "      <td>1896.199951</td>\n",
              "      <td>1638.165894</td>\n",
              "    </tr>\n",
              "    <tr>\n",
              "      <th>2023-03-13</th>\n",
              "      <td>1874.400024</td>\n",
              "      <td>1663.867920</td>\n",
              "    </tr>\n",
              "    <tr>\n",
              "      <th>2023-03-14</th>\n",
              "      <td>1738.199951</td>\n",
              "      <td>1662.944824</td>\n",
              "    </tr>\n",
              "    <tr>\n",
              "      <th>2023-03-15</th>\n",
              "      <td>1839.000000</td>\n",
              "      <td>1626.436157</td>\n",
              "    </tr>\n",
              "    <tr>\n",
              "      <th>2023-03-16</th>\n",
              "      <td>1843.800049</td>\n",
              "      <td>1600.785889</td>\n",
              "    </tr>\n",
              "  </tbody>\n",
              "</table>\n",
              "<p>799 rows × 2 columns</p>\n",
              "</div>\n",
              "      <button class=\"colab-df-convert\" onclick=\"convertToInteractive('df-3a950ff8-af62-4d3c-a513-cc2d6f8b5ab3')\"\n",
              "              title=\"Convert this dataframe to an interactive table.\"\n",
              "              style=\"display:none;\">\n",
              "        \n",
              "  <svg xmlns=\"http://www.w3.org/2000/svg\" height=\"24px\"viewBox=\"0 0 24 24\"\n",
              "       width=\"24px\">\n",
              "    <path d=\"M0 0h24v24H0V0z\" fill=\"none\"/>\n",
              "    <path d=\"M18.56 5.44l.94 2.06.94-2.06 2.06-.94-2.06-.94-.94-2.06-.94 2.06-2.06.94zm-11 1L8.5 8.5l.94-2.06 2.06-.94-2.06-.94L8.5 2.5l-.94 2.06-2.06.94zm10 10l.94 2.06.94-2.06 2.06-.94-2.06-.94-.94-2.06-.94 2.06-2.06.94z\"/><path d=\"M17.41 7.96l-1.37-1.37c-.4-.4-.92-.59-1.43-.59-.52 0-1.04.2-1.43.59L10.3 9.45l-7.72 7.72c-.78.78-.78 2.05 0 2.83L4 21.41c.39.39.9.59 1.41.59.51 0 1.02-.2 1.41-.59l7.78-7.78 2.81-2.81c.8-.78.8-2.07 0-2.86zM5.41 20L4 18.59l7.72-7.72 1.47 1.35L5.41 20z\"/>\n",
              "  </svg>\n",
              "      </button>\n",
              "      \n",
              "  <style>\n",
              "    .colab-df-container {\n",
              "      display:flex;\n",
              "      flex-wrap:wrap;\n",
              "      gap: 12px;\n",
              "    }\n",
              "\n",
              "    .colab-df-convert {\n",
              "      background-color: #E8F0FE;\n",
              "      border: none;\n",
              "      border-radius: 50%;\n",
              "      cursor: pointer;\n",
              "      display: none;\n",
              "      fill: #1967D2;\n",
              "      height: 32px;\n",
              "      padding: 0 0 0 0;\n",
              "      width: 32px;\n",
              "    }\n",
              "\n",
              "    .colab-df-convert:hover {\n",
              "      background-color: #E2EBFA;\n",
              "      box-shadow: 0px 1px 2px rgba(60, 64, 67, 0.3), 0px 1px 3px 1px rgba(60, 64, 67, 0.15);\n",
              "      fill: #174EA6;\n",
              "    }\n",
              "\n",
              "    [theme=dark] .colab-df-convert {\n",
              "      background-color: #3B4455;\n",
              "      fill: #D2E3FC;\n",
              "    }\n",
              "\n",
              "    [theme=dark] .colab-df-convert:hover {\n",
              "      background-color: #434B5C;\n",
              "      box-shadow: 0px 1px 3px 1px rgba(0, 0, 0, 0.15);\n",
              "      filter: drop-shadow(0px 1px 2px rgba(0, 0, 0, 0.3));\n",
              "      fill: #FFFFFF;\n",
              "    }\n",
              "  </style>\n",
              "\n",
              "      <script>\n",
              "        const buttonEl =\n",
              "          document.querySelector('#df-3a950ff8-af62-4d3c-a513-cc2d6f8b5ab3 button.colab-df-convert');\n",
              "        buttonEl.style.display =\n",
              "          google.colab.kernel.accessAllowed ? 'block' : 'none';\n",
              "\n",
              "        async function convertToInteractive(key) {\n",
              "          const element = document.querySelector('#df-3a950ff8-af62-4d3c-a513-cc2d6f8b5ab3');\n",
              "          const dataTable =\n",
              "            await google.colab.kernel.invokeFunction('convertToInteractive',\n",
              "                                                     [key], {});\n",
              "          if (!dataTable) return;\n",
              "\n",
              "          const docLinkHtml = 'Like what you see? Visit the ' +\n",
              "            '<a target=\"_blank\" href=https://colab.research.google.com/notebooks/data_table.ipynb>data table notebook</a>'\n",
              "            + ' to learn more about interactive tables.';\n",
              "          element.innerHTML = '';\n",
              "          dataTable['output_type'] = 'display_data';\n",
              "          await google.colab.output.renderOutput(dataTable, element);\n",
              "          const docLink = document.createElement('div');\n",
              "          docLink.innerHTML = docLinkHtml;\n",
              "          element.appendChild(docLink);\n",
              "        }\n",
              "      </script>\n",
              "    </div>\n",
              "  </div>\n",
              "  "
            ]
          },
          "metadata": {},
          "execution_count": 134
        }
      ]
    },
    {
      "cell_type": "code",
      "source": [
        "#Get the quote\n",
        "adanient_quote = yf.download('ADANIENT.NS',start='2007-01-01', end='2023-03-17')\n",
        "#Create new data frame\n",
        "new_df = adanient_quote.filter(['Close'])\n",
        "#Get the last  days closing price values and convert them into array\n",
        "last_60_days = new_df[-60:].values\n",
        "#Scale the data to be values between 0 and 1\n",
        "last_60_days_scaled = scaler.transform(last_60_days)"
      ],
      "metadata": {
        "colab": {
          "base_uri": "https://localhost:8080/"
        },
        "id": "3wjSTP6-sQXW",
        "outputId": "759ec5f7-fe5e-4e71-d299-45603f18f934"
      },
      "execution_count": 151,
      "outputs": [
        {
          "output_type": "stream",
          "name": "stdout",
          "text": [
            "\r[*********************100%***********************]  1 of 1 completed\n"
          ]
        }
      ]
    },
    {
      "cell_type": "code",
      "source": [
        "#Create an empty list\n",
        "X_test = []\n",
        "#Append past 60 days data\n",
        "X_test.append(last_60_days_scaled)"
      ],
      "metadata": {
        "id": "La4VD7LpscfO"
      },
      "execution_count": 152,
      "outputs": []
    },
    {
      "cell_type": "code",
      "source": [
        "#Convert the X_Test dataset to numpy array \n",
        "X_test=np.array(X_test)"
      ],
      "metadata": {
        "id": "6f6a0o2Vsgnn"
      },
      "execution_count": 153,
      "outputs": []
    },
    {
      "cell_type": "code",
      "source": [
        "#Reshape the 2D data into 3D array\n",
        "X_test = np.reshape(X_test,(X_test.shape[0],X_test.shape[1],1))"
      ],
      "metadata": {
        "id": "_3h0RGU4sj1J"
      },
      "execution_count": 154,
      "outputs": []
    },
    {
      "cell_type": "code",
      "source": [
        "#Get the predicted scaled price\n",
        "pred_price = model.predict(X_test,verbose='auto')\n"
      ],
      "metadata": {
        "colab": {
          "base_uri": "https://localhost:8080/"
        },
        "id": "fi8WMHqksm4R",
        "outputId": "a07d2c9c-7e2f-406a-9cab-232b8960d2aa"
      },
      "execution_count": 163,
      "outputs": [
        {
          "output_type": "stream",
          "name": "stdout",
          "text": [
            "1/1 [==============================] - 0s 34ms/step\n"
          ]
        }
      ]
    },
    {
      "cell_type": "code",
      "source": [
        "#Undo Scaling\n",
        "pred_price = scaler.inverse_transform(pred_price)\n",
        "print(pred_price)"
      ],
      "metadata": {
        "colab": {
          "base_uri": "https://localhost:8080/"
        },
        "id": "9V7mJ1m3spNo",
        "outputId": "d9ab1fdc-ea68-4323-a4d6-80bc339d7f0c"
      },
      "execution_count": 164,
      "outputs": [
        {
          "output_type": "stream",
          "name": "stdout",
          "text": [
            "[[1585.1724]]\n"
          ]
        }
      ]
    },
    {
      "cell_type": "code",
      "source": [
        "#Get the root mean sqaured error (RMSE) for the model\n",
        "rmse=np.sqrt(np.mean(((predictions- y_test)**2)))\n",
        "rmse"
      ],
      "metadata": {
        "colab": {
          "base_uri": "https://localhost:8080/"
        },
        "id": "gD5C8Xe6vDDm",
        "outputId": "817597e4-bdac-4ea0-d9c8-8a3a95cc07aa"
      },
      "execution_count": 149,
      "outputs": [
        {
          "output_type": "execute_result",
          "data": {
            "text/plain": [
              "317.6589804888671"
            ]
          },
          "metadata": {},
          "execution_count": 149
        }
      ]
    },
    {
      "cell_type": "code",
      "source": [
        "#Get the quote\n",
        "adanient_quote2 = yf.download('ADANIENT.NS',start='2023-03-16', end='2023-03-18')\n",
        "print(adanient_quote2)"
      ],
      "metadata": {
        "colab": {
          "base_uri": "https://localhost:8080/"
        },
        "id": "f8Jf1eZVs9Ua",
        "outputId": "8a787f55-f1e7-42b9-9fc0-84e01fe9bbc0"
      },
      "execution_count": 150,
      "outputs": [
        {
          "output_type": "stream",
          "name": "stdout",
          "text": [
            "\r[*********************100%***********************]  1 of 1 completed\n",
            "              Open         High     Low        Close    Adj Close   Volume\n",
            "Date                                                                      \n",
            "2023-03-16  1861.0  1875.000000  1795.0  1843.800049  1843.800049  6509495\n",
            "2023-03-17  1901.0  1918.849976  1845.0  1876.550049  1876.550049  5964875\n"
          ]
        }
      ]
    }
  ]
}