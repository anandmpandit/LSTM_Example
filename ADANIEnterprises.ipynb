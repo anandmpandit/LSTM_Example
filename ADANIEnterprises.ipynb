{
  "nbformat": 4,
  "nbformat_minor": 0,
  "metadata": {
    "colab": {
      "provenance": [],
      "authorship_tag": "ABX9TyMS+TmYkXTRMBEK87Eoz1ZQ",
      "include_colab_link": true
    },
    "kernelspec": {
      "name": "python3",
      "display_name": "Python 3"
    },
    "language_info": {
      "name": "python"
    }
  },
  "cells": [
    {
      "cell_type": "markdown",
      "metadata": {
        "id": "view-in-github",
        "colab_type": "text"
      },
      "source": [
        "<a href=\"https://colab.research.google.com/github/anandmpandit/LSTM_Example/blob/main/ADANIEnterprises.ipynb\" target=\"_parent\"><img src=\"https://colab.research.google.com/assets/colab-badge.svg\" alt=\"Open In Colab\"/></a>"
      ]
    },
    {
      "cell_type": "code",
      "execution_count": 4,
      "metadata": {
        "id": "vnpjF7-SXhA9"
      },
      "outputs": [],
      "source": [
        "#Description : This program uses Artificial neural network called LSTM (Long Short Term Memory) to predict closing stock price of a company\n",
        "#              AAPL using last 60 days stock price\n",
        "#Import Libraries\n",
        "import math\n",
        "import pandas_datareader as web\n",
        "import numpy as np\n",
        "import pandas as pd\n",
        "from sklearn.preprocessing import MinMaxScaler\n",
        "from keras.models import Sequential\n",
        "from keras.layers import Dense, LSTM\n",
        "import matplotlib.pyplot as plt\n",
        "from matplotlib import style\n",
        "import datetime as dt\n",
        "plt.style.use('fivethirtyeight')\n",
        "plt.show()\n"
      ]
    },
    {
      "cell_type": "code",
      "source": [
        "#Get the yahoo finance libraries\n",
        "!pip install yfinance"
      ],
      "metadata": {
        "id": "A7RHNPsHbV6Q"
      },
      "execution_count": null,
      "outputs": []
    },
    {
      "cell_type": "code",
      "source": [
        "import yfinance as yf\n",
        "df = yf.download('ADANIENT.NS',start='2007-01-01', end='2023-03-15')\n",
        "df"
      ],
      "metadata": {
        "colab": {
          "base_uri": "https://localhost:8080/",
          "height": 473
        },
        "id": "_IfV4hNnbetO",
        "outputId": "d4f565b0-f7d9-4f14-d4d8-ff47e68a835d"
      },
      "execution_count": 1,
      "outputs": [
        {
          "output_type": "stream",
          "name": "stdout",
          "text": [
            "\r[*********************100%***********************]  1 of 1 completed\n"
          ]
        },
        {
          "output_type": "execute_result",
          "data": {
            "text/plain": [
              "                   Open         High          Low        Close    Adj Close  \\\n",
              "Date                                                                          \n",
              "2007-01-02    17.626631    18.028978    17.511675    17.760748    14.256759   \n",
              "2007-01-03    17.933182    18.117111    17.285595    17.653454    14.170633   \n",
              "2007-01-04    17.737757    17.875704    17.373728    17.423542    13.986078   \n",
              "2007-01-05    17.481020    18.239731    17.320082    18.074961    14.508981   \n",
              "2007-01-08    18.009819    18.239731    17.718596    17.848881    14.327506   \n",
              "...                 ...          ...          ...          ...          ...   \n",
              "2023-03-08  2040.000000  2088.000000  1941.000000  2039.650024  2039.650024   \n",
              "2023-03-09  2049.800049  2068.850098  1905.349976  1953.150024  1953.150024   \n",
              "2023-03-10  1870.000000  1940.000000  1820.599976  1896.199951  1896.199951   \n",
              "2023-03-13  1917.000000  1985.000000  1857.400024  1874.400024  1874.400024   \n",
              "2023-03-14  1874.000000  1874.849976  1651.349976  1738.199951  1738.199951   \n",
              "\n",
              "              Volume  \n",
              "Date                  \n",
              "2007-01-02   2117578  \n",
              "2007-01-03   3567325  \n",
              "2007-01-04   2319803  \n",
              "2007-01-05   7521602  \n",
              "2007-01-08   4855140  \n",
              "...              ...  \n",
              "2023-03-08  13568243  \n",
              "2023-03-09  12627794  \n",
              "2023-03-10   9419942  \n",
              "2023-03-13   7572604  \n",
              "2023-03-14  12679663  \n",
              "\n",
              "[3996 rows x 6 columns]"
            ],
            "text/html": [
              "\n",
              "  <div id=\"df-dd43d421-ef2c-467e-b347-642b9b427429\">\n",
              "    <div class=\"colab-df-container\">\n",
              "      <div>\n",
              "<style scoped>\n",
              "    .dataframe tbody tr th:only-of-type {\n",
              "        vertical-align: middle;\n",
              "    }\n",
              "\n",
              "    .dataframe tbody tr th {\n",
              "        vertical-align: top;\n",
              "    }\n",
              "\n",
              "    .dataframe thead th {\n",
              "        text-align: right;\n",
              "    }\n",
              "</style>\n",
              "<table border=\"1\" class=\"dataframe\">\n",
              "  <thead>\n",
              "    <tr style=\"text-align: right;\">\n",
              "      <th></th>\n",
              "      <th>Open</th>\n",
              "      <th>High</th>\n",
              "      <th>Low</th>\n",
              "      <th>Close</th>\n",
              "      <th>Adj Close</th>\n",
              "      <th>Volume</th>\n",
              "    </tr>\n",
              "    <tr>\n",
              "      <th>Date</th>\n",
              "      <th></th>\n",
              "      <th></th>\n",
              "      <th></th>\n",
              "      <th></th>\n",
              "      <th></th>\n",
              "      <th></th>\n",
              "    </tr>\n",
              "  </thead>\n",
              "  <tbody>\n",
              "    <tr>\n",
              "      <th>2007-01-02</th>\n",
              "      <td>17.626631</td>\n",
              "      <td>18.028978</td>\n",
              "      <td>17.511675</td>\n",
              "      <td>17.760748</td>\n",
              "      <td>14.256759</td>\n",
              "      <td>2117578</td>\n",
              "    </tr>\n",
              "    <tr>\n",
              "      <th>2007-01-03</th>\n",
              "      <td>17.933182</td>\n",
              "      <td>18.117111</td>\n",
              "      <td>17.285595</td>\n",
              "      <td>17.653454</td>\n",
              "      <td>14.170633</td>\n",
              "      <td>3567325</td>\n",
              "    </tr>\n",
              "    <tr>\n",
              "      <th>2007-01-04</th>\n",
              "      <td>17.737757</td>\n",
              "      <td>17.875704</td>\n",
              "      <td>17.373728</td>\n",
              "      <td>17.423542</td>\n",
              "      <td>13.986078</td>\n",
              "      <td>2319803</td>\n",
              "    </tr>\n",
              "    <tr>\n",
              "      <th>2007-01-05</th>\n",
              "      <td>17.481020</td>\n",
              "      <td>18.239731</td>\n",
              "      <td>17.320082</td>\n",
              "      <td>18.074961</td>\n",
              "      <td>14.508981</td>\n",
              "      <td>7521602</td>\n",
              "    </tr>\n",
              "    <tr>\n",
              "      <th>2007-01-08</th>\n",
              "      <td>18.009819</td>\n",
              "      <td>18.239731</td>\n",
              "      <td>17.718596</td>\n",
              "      <td>17.848881</td>\n",
              "      <td>14.327506</td>\n",
              "      <td>4855140</td>\n",
              "    </tr>\n",
              "    <tr>\n",
              "      <th>...</th>\n",
              "      <td>...</td>\n",
              "      <td>...</td>\n",
              "      <td>...</td>\n",
              "      <td>...</td>\n",
              "      <td>...</td>\n",
              "      <td>...</td>\n",
              "    </tr>\n",
              "    <tr>\n",
              "      <th>2023-03-08</th>\n",
              "      <td>2040.000000</td>\n",
              "      <td>2088.000000</td>\n",
              "      <td>1941.000000</td>\n",
              "      <td>2039.650024</td>\n",
              "      <td>2039.650024</td>\n",
              "      <td>13568243</td>\n",
              "    </tr>\n",
              "    <tr>\n",
              "      <th>2023-03-09</th>\n",
              "      <td>2049.800049</td>\n",
              "      <td>2068.850098</td>\n",
              "      <td>1905.349976</td>\n",
              "      <td>1953.150024</td>\n",
              "      <td>1953.150024</td>\n",
              "      <td>12627794</td>\n",
              "    </tr>\n",
              "    <tr>\n",
              "      <th>2023-03-10</th>\n",
              "      <td>1870.000000</td>\n",
              "      <td>1940.000000</td>\n",
              "      <td>1820.599976</td>\n",
              "      <td>1896.199951</td>\n",
              "      <td>1896.199951</td>\n",
              "      <td>9419942</td>\n",
              "    </tr>\n",
              "    <tr>\n",
              "      <th>2023-03-13</th>\n",
              "      <td>1917.000000</td>\n",
              "      <td>1985.000000</td>\n",
              "      <td>1857.400024</td>\n",
              "      <td>1874.400024</td>\n",
              "      <td>1874.400024</td>\n",
              "      <td>7572604</td>\n",
              "    </tr>\n",
              "    <tr>\n",
              "      <th>2023-03-14</th>\n",
              "      <td>1874.000000</td>\n",
              "      <td>1874.849976</td>\n",
              "      <td>1651.349976</td>\n",
              "      <td>1738.199951</td>\n",
              "      <td>1738.199951</td>\n",
              "      <td>12679663</td>\n",
              "    </tr>\n",
              "  </tbody>\n",
              "</table>\n",
              "<p>3996 rows × 6 columns</p>\n",
              "</div>\n",
              "      <button class=\"colab-df-convert\" onclick=\"convertToInteractive('df-dd43d421-ef2c-467e-b347-642b9b427429')\"\n",
              "              title=\"Convert this dataframe to an interactive table.\"\n",
              "              style=\"display:none;\">\n",
              "        \n",
              "  <svg xmlns=\"http://www.w3.org/2000/svg\" height=\"24px\"viewBox=\"0 0 24 24\"\n",
              "       width=\"24px\">\n",
              "    <path d=\"M0 0h24v24H0V0z\" fill=\"none\"/>\n",
              "    <path d=\"M18.56 5.44l.94 2.06.94-2.06 2.06-.94-2.06-.94-.94-2.06-.94 2.06-2.06.94zm-11 1L8.5 8.5l.94-2.06 2.06-.94-2.06-.94L8.5 2.5l-.94 2.06-2.06.94zm10 10l.94 2.06.94-2.06 2.06-.94-2.06-.94-.94-2.06-.94 2.06-2.06.94z\"/><path d=\"M17.41 7.96l-1.37-1.37c-.4-.4-.92-.59-1.43-.59-.52 0-1.04.2-1.43.59L10.3 9.45l-7.72 7.72c-.78.78-.78 2.05 0 2.83L4 21.41c.39.39.9.59 1.41.59.51 0 1.02-.2 1.41-.59l7.78-7.78 2.81-2.81c.8-.78.8-2.07 0-2.86zM5.41 20L4 18.59l7.72-7.72 1.47 1.35L5.41 20z\"/>\n",
              "  </svg>\n",
              "      </button>\n",
              "      \n",
              "  <style>\n",
              "    .colab-df-container {\n",
              "      display:flex;\n",
              "      flex-wrap:wrap;\n",
              "      gap: 12px;\n",
              "    }\n",
              "\n",
              "    .colab-df-convert {\n",
              "      background-color: #E8F0FE;\n",
              "      border: none;\n",
              "      border-radius: 50%;\n",
              "      cursor: pointer;\n",
              "      display: none;\n",
              "      fill: #1967D2;\n",
              "      height: 32px;\n",
              "      padding: 0 0 0 0;\n",
              "      width: 32px;\n",
              "    }\n",
              "\n",
              "    .colab-df-convert:hover {\n",
              "      background-color: #E2EBFA;\n",
              "      box-shadow: 0px 1px 2px rgba(60, 64, 67, 0.3), 0px 1px 3px 1px rgba(60, 64, 67, 0.15);\n",
              "      fill: #174EA6;\n",
              "    }\n",
              "\n",
              "    [theme=dark] .colab-df-convert {\n",
              "      background-color: #3B4455;\n",
              "      fill: #D2E3FC;\n",
              "    }\n",
              "\n",
              "    [theme=dark] .colab-df-convert:hover {\n",
              "      background-color: #434B5C;\n",
              "      box-shadow: 0px 1px 3px 1px rgba(0, 0, 0, 0.15);\n",
              "      filter: drop-shadow(0px 1px 2px rgba(0, 0, 0, 0.3));\n",
              "      fill: #FFFFFF;\n",
              "    }\n",
              "  </style>\n",
              "\n",
              "      <script>\n",
              "        const buttonEl =\n",
              "          document.querySelector('#df-dd43d421-ef2c-467e-b347-642b9b427429 button.colab-df-convert');\n",
              "        buttonEl.style.display =\n",
              "          google.colab.kernel.accessAllowed ? 'block' : 'none';\n",
              "\n",
              "        async function convertToInteractive(key) {\n",
              "          const element = document.querySelector('#df-dd43d421-ef2c-467e-b347-642b9b427429');\n",
              "          const dataTable =\n",
              "            await google.colab.kernel.invokeFunction('convertToInteractive',\n",
              "                                                     [key], {});\n",
              "          if (!dataTable) return;\n",
              "\n",
              "          const docLinkHtml = 'Like what you see? Visit the ' +\n",
              "            '<a target=\"_blank\" href=https://colab.research.google.com/notebooks/data_table.ipynb>data table notebook</a>'\n",
              "            + ' to learn more about interactive tables.';\n",
              "          element.innerHTML = '';\n",
              "          dataTable['output_type'] = 'display_data';\n",
              "          await google.colab.output.renderOutput(dataTable, element);\n",
              "          const docLink = document.createElement('div');\n",
              "          docLink.innerHTML = docLinkHtml;\n",
              "          element.appendChild(docLink);\n",
              "        }\n",
              "      </script>\n",
              "    </div>\n",
              "  </div>\n",
              "  "
            ]
          },
          "metadata": {},
          "execution_count": 1
        }
      ]
    },
    {
      "cell_type": "code",
      "source": [
        "df.shape"
      ],
      "metadata": {
        "colab": {
          "base_uri": "https://localhost:8080/"
        },
        "id": "gSPR1RDybyrj",
        "outputId": "e3c5ef37-d2ff-4537-ba22-15893fb3752e"
      },
      "execution_count": 2,
      "outputs": [
        {
          "output_type": "execute_result",
          "data": {
            "text/plain": [
              "(3996, 6)"
            ]
          },
          "metadata": {},
          "execution_count": 2
        }
      ]
    },
    {
      "cell_type": "code",
      "source": [
        "#Visualize closing price history\n",
        "\n",
        "plt.figure(figsize=(16,8))\n",
        "plt.title('ADANI Enterprises Closing price history')\n",
        "plt.plot(df['Close'])\n",
        "plt.xlabel('Date',fontsize=18)\n",
        "plt.ylabel('Close price INR (Rs)',fontsize=18)\n",
        "plt.show()"
      ],
      "metadata": {
        "colab": {
          "base_uri": "https://localhost:8080/",
          "height": 558
        },
        "id": "iJNOLM7Ib5SK",
        "outputId": "a0925df7-bf21-4969-a43a-75e53831e87e"
      },
      "execution_count": 6,
      "outputs": [
        {
          "output_type": "display_data",
          "data": {
            "text/plain": [
              "<Figure size 1152x576 with 1 Axes>"
            ],
            "image/png": "[encoded data removed]"
          },
          "metadata": {}
        }
      ]
    },
    {
      "cell_type": "code",
      "source": [
        "#Create new data frame with only the close price column\n",
        "data = df.filter(['Close'])\n",
        "print(data)\n",
        "\n",
        "#Convert the dataframe to a numpy array\n",
        "dataset = data.values\n",
        "\n",
        "print(dataset)\n",
        "\n",
        "#Get no of rows to train the model \n",
        "training_data_len = math.ceil(len(dataset) * .8)\n",
        "\n",
        "training_data_len"
      ],
      "metadata": {
        "colab": {
          "base_uri": "https://localhost:8080/"
        },
        "id": "aXUDovQPcXyz",
        "outputId": "5e13903d-7bc6-45f0-c48d-c0f5ed98f56b"
      },
      "execution_count": 7,
      "outputs": [
        {
          "output_type": "stream",
          "name": "stdout",
          "text": [
            "                  Close\n",
            "Date                   \n",
            "2007-01-02    17.760748\n",
            "2007-01-03    17.653454\n",
            "2007-01-04    17.423542\n",
            "2007-01-05    18.074961\n",
            "2007-01-08    17.848881\n",
            "...                 ...\n",
            "2023-03-08  2039.650024\n",
            "2023-03-09  1953.150024\n",
            "2023-03-10  1896.199951\n",
            "2023-03-13  1874.400024\n",
            "2023-03-14  1738.199951\n",
            "\n",
            "[3996 rows x 1 columns]\n",
            "[[  17.76074791]\n",
            " [  17.65345383]\n",
            " [  17.42354202]\n",
            " ...\n",
            " [1896.19995117]\n",
            " [1874.40002441]\n",
            " [1738.19995117]]\n"
          ]
        },
        {
          "output_type": "execute_result",
          "data": {
            "text/plain": [
              "3197"
            ]
          },
          "metadata": {},
          "execution_count": 7
        }
      ]
    },
    {
      "cell_type": "code",
      "source": [
        "#Scale the data\n",
        "scaler = MinMaxScaler(feature_range=(0,1))\n",
        "scaled_data = scaler.fit_transform(dataset)\n",
        "\n",
        "scaled_data "
      ],
      "metadata": {
        "colab": {
          "base_uri": "https://localhost:8080/"
        },
        "id": "2i4qDL69cfwD",
        "outputId": "7047eabe-4e96-42f0-dc9e-2954887c269e"
      },
      "execution_count": 8,
      "outputs": [
        {
          "output_type": "execute_result",
          "data": {
            "text/plain": [
              "array([[0.00084004],\n",
              "       [0.00081419],\n",
              "       [0.0007588 ],\n",
              "       ...,\n",
              "       [0.4533641 ],\n",
              "       [0.44811241],\n",
              "       [0.41530123]])"
            ]
          },
          "metadata": {},
          "execution_count": 8
        }
      ]
    },
    {
      "cell_type": "code",
      "source": [
        "#Create training dataset\n",
        "#Create scaled training dataset\n",
        "train_data = scaled_data[0:training_data_len,:]\n",
        "\n",
        "print(train_data)\n",
        "#Split the dataset x_train and y_train datasets\n",
        "x_train = []\n",
        "y_train = []\n",
        "\n",
        "for i in range(60,len(train_data)):\n",
        "  x_train.append(train_data[i-60:i,0])\n",
        "  y_train.append(train_data[i,0])\n",
        "  if i<=61:\n",
        "    print(x_train)\n",
        "    print(y_train)\n",
        "    print()\n"
      ],
      "metadata": {
        "colab": {
          "base_uri": "https://localhost:8080/"
        },
        "id": "b0J6sN-xclBK",
        "outputId": "97063412-86b6-42ae-cf1b-626203355321"
      },
      "execution_count": 9,
      "outputs": [
        {
          "output_type": "stream",
          "name": "stdout",
          "text": [
            "[[0.00084004]\n",
            " [0.00081419]\n",
            " [0.0007588 ]\n",
            " ...\n",
            " [0.04694653]\n",
            " [0.04689835]\n",
            " [0.04693448]]\n",
            "[array([8.40035450e-04, 8.14187845e-04, 7.58801104e-04, 9.15730662e-04,\n",
            "       8.61267034e-04, 7.08029925e-04, 6.25872467e-04, 6.77566758e-04,\n",
            "       7.18183701e-04, 7.42185082e-04, 6.72951197e-04, 7.91110036e-04,\n",
            "       7.56031767e-04, 6.66489410e-04, 6.71104972e-04, 6.11102669e-04,\n",
            "       6.28641804e-04, 6.70181859e-04, 6.48950276e-04, 8.16034069e-04,\n",
            "       9.44347145e-04, 9.85887200e-04, 9.86810313e-04, 1.20466574e-03,\n",
            "       1.00434991e-03, 9.42500920e-04, 7.25569060e-04, 4.38480202e-04,\n",
            "       5.29868324e-04, 7.72647789e-04, 7.48646868e-04, 6.55412062e-04,\n",
            "       5.88947973e-04, 5.64947052e-04, 5.86178636e-04, 4.94790055e-04,\n",
            "       5.13252301e-04, 4.80020257e-04, 4.47710866e-04, 4.20940608e-04,\n",
            "       3.67400092e-04, 1.37544429e-04, 5.53890381e-06, 0.00000000e+00,\n",
            "       1.26466851e-04, 1.16312615e-04, 1.92931399e-04, 2.26163443e-04,\n",
            "       1.08004604e-04, 1.41236648e-04, 1.39390653e-04, 1.88315607e-04,\n",
            "       1.46775552e-04, 2.09547191e-04, 3.09243784e-04, 3.73861878e-04,\n",
            "       3.56322743e-04, 2.66780616e-04, 3.89554788e-04, 4.39403314e-04])]\n",
            "[0.0003424760582404836]\n",
            "\n",
            "[array([8.40035450e-04, 8.14187845e-04, 7.58801104e-04, 9.15730662e-04,\n",
            "       8.61267034e-04, 7.08029925e-04, 6.25872467e-04, 6.77566758e-04,\n",
            "       7.18183701e-04, 7.42185082e-04, 6.72951197e-04, 7.91110036e-04,\n",
            "       7.56031767e-04, 6.66489410e-04, 6.71104972e-04, 6.11102669e-04,\n",
            "       6.28641804e-04, 6.70181859e-04, 6.48950276e-04, 8.16034069e-04,\n",
            "       9.44347145e-04, 9.85887200e-04, 9.86810313e-04, 1.20466574e-03,\n",
            "       1.00434991e-03, 9.42500920e-04, 7.25569060e-04, 4.38480202e-04,\n",
            "       5.29868324e-04, 7.72647789e-04, 7.48646868e-04, 6.55412062e-04,\n",
            "       5.88947973e-04, 5.64947052e-04, 5.86178636e-04, 4.94790055e-04,\n",
            "       5.13252301e-04, 4.80020257e-04, 4.47710866e-04, 4.20940608e-04,\n",
            "       3.67400092e-04, 1.37544429e-04, 5.53890381e-06, 0.00000000e+00,\n",
            "       1.26466851e-04, 1.16312615e-04, 1.92931399e-04, 2.26163443e-04,\n",
            "       1.08004604e-04, 1.41236648e-04, 1.39390653e-04, 1.88315607e-04,\n",
            "       1.46775552e-04, 2.09547191e-04, 3.09243784e-04, 3.73861878e-04,\n",
            "       3.56322743e-04, 2.66780616e-04, 3.89554788e-04, 4.39403314e-04]), array([8.14187845e-04, 7.58801104e-04, 9.15730662e-04, 8.61267034e-04,\n",
            "       7.08029925e-04, 6.25872467e-04, 6.77566758e-04, 7.18183701e-04,\n",
            "       7.42185082e-04, 6.72951197e-04, 7.91110036e-04, 7.56031767e-04,\n",
            "       6.66489410e-04, 6.71104972e-04, 6.11102669e-04, 6.28641804e-04,\n",
            "       6.70181859e-04, 6.48950276e-04, 8.16034069e-04, 9.44347145e-04,\n",
            "       9.85887200e-04, 9.86810313e-04, 1.20466574e-03, 1.00434991e-03,\n",
            "       9.42500920e-04, 7.25569060e-04, 4.38480202e-04, 5.29868324e-04,\n",
            "       7.72647789e-04, 7.48646868e-04, 6.55412062e-04, 5.88947973e-04,\n",
            "       5.64947052e-04, 5.86178636e-04, 4.94790055e-04, 5.13252301e-04,\n",
            "       4.80020257e-04, 4.47710866e-04, 4.20940608e-04, 3.67400092e-04,\n",
            "       1.37544429e-04, 5.53890381e-06, 0.00000000e+00, 1.26466851e-04,\n",
            "       1.16312615e-04, 1.92931399e-04, 2.26163443e-04, 1.08004604e-04,\n",
            "       1.41236648e-04, 1.39390653e-04, 1.88315607e-04, 1.46775552e-04,\n",
            "       2.09547191e-04, 3.09243784e-04, 3.73861878e-04, 3.56322743e-04,\n",
            "       2.66780616e-04, 3.89554788e-04, 4.39403314e-04, 3.42476058e-04])]\n",
            "[0.0003424760582404836, 0.0003812467767055853]\n",
            "\n"
          ]
        }
      ]
    },
    {
      "cell_type": "code",
      "source": [
        "#Convert the x_train and y_train to numpy arrays\n",
        "x_train, y_train = np.array(x_train), np.array(y_train)\n",
        "\n",
        "print (x_train)\n",
        "print (y_train)\n",
        "\n",
        "x_train.shape\n",
        "\n",
        "#Reshape the data\n",
        "x_train = np.reshape(x_train, (x_train.shape[0], x_train.shape[1], 1))\n",
        "x_train.shape"
      ],
      "metadata": {
        "colab": {
          "base_uri": "https://localhost:8080/"
        },
        "id": "F7KIdu6tcqpQ",
        "outputId": "68ea60f1-cbae-4c6c-ec5d-1d993b8627bf"
      },
      "execution_count": 10,
      "outputs": [
        {
          "output_type": "stream",
          "name": "stdout",
          "text": [
            "[[0.00084004 0.00081419 0.0007588  ... 0.00026678 0.00038955 0.0004394 ]\n",
            " [0.00081419 0.0007588  0.00091573 ... 0.00038955 0.0004394  0.00034248]\n",
            " [0.0007588  0.00091573 0.00086127 ... 0.0004394  0.00034248 0.00038125]\n",
            " ...\n",
            " [0.03210682 0.03334748 0.03256454 ... 0.04728379 0.04927126 0.04824741]\n",
            " [0.03334748 0.03256454 0.03169729 ... 0.04927126 0.04824741 0.04694653]\n",
            " [0.03256454 0.03169729 0.0311673  ... 0.04824741 0.04694653 0.04689835]]\n",
            "[0.00034248 0.00038125 0.00045602 ... 0.04694653 0.04689835 0.04693448]\n"
          ]
        },
        {
          "output_type": "execute_result",
          "data": {
            "text/plain": [
              "(3137, 60, 1)"
            ]
          },
          "metadata": {},
          "execution_count": 10
        }
      ]
    },
    {
      "cell_type": "code",
      "source": [
        "#Build the model\n",
        "model = Sequential()\n",
        "model.add(LSTM(100, return_sequences=True, input_shape= (x_train.shape[1],1)))\n",
        "model.add(LSTM(100, return_sequences=False))\n",
        "model.add(Dense(50))\n",
        "model.add(Dense(1))"
      ],
      "metadata": {
        "id": "aVeeaxGcc4m7"
      },
      "execution_count": 12,
      "outputs": []
    },
    {
      "cell_type": "code",
      "source": [
        "#Compile the model\n",
        "model.compile(optimizer='adam',loss='mean_squared_error')"
      ],
      "metadata": {
        "id": "5gSWpkFkdG92"
      },
      "execution_count": 13,
      "outputs": []
    },
    {
      "cell_type": "code",
      "source": [
        "#Train the model\n",
        "model.fit(x_train,y_train, batch_size=1, epochs=1,verbose=\"auto\")"
      ],
      "metadata": {
        "colab": {
          "base_uri": "https://localhost:8080/"
        },
        "id": "h2Y6C0Y1dOXg",
        "outputId": "44438726-7b07-492a-a644-402c73b590ec"
      },
      "execution_count": 14,
      "outputs": [
        {
          "output_type": "stream",
          "name": "stdout",
          "text": [
            "3137/3137 [==============================] - 140s 43ms/step - loss: 1.0421e-05\n"
          ]
        },
        {
          "output_type": "execute_result",
          "data": {
            "text/plain": [
              "<keras.callbacks.History at 0x7f9a2c5517c0>"
            ]
          },
          "metadata": {},
          "execution_count": 14
        }
      ]
    },
    {
      "cell_type": "code",
      "source": [
        "#Create a test data set\n",
        "#Create a new array containing scaled values from index 3262 to 4077\n",
        "print(training_data_len)\n",
        "test_data = scaled_data[training_data_len - 60:,:]\n",
        "\n",
        "\n",
        "#Create data sets x_test and y_test\n",
        "x_test =[]\n",
        "y_test =dataset[training_data_len:,:]\n",
        "\n",
        "for i in range(60,len(test_data)):\n",
        "  x_test.append(test_data[i-60:i,0])\n",
        "\n",
        "\n",
        "\n",
        "#Convert data to a numpy array\n",
        "x_test = np.array(x_test)\n",
        "\n",
        "\n",
        "#Reshape the data\n",
        "x_test = np.reshape(x_test,(x_test.shape[0], x_test.shape[1],1))\n"
      ],
      "metadata": {
        "colab": {
          "base_uri": "https://localhost:8080/"
        },
        "id": "rIBZ5zrTeCmi",
        "outputId": "05810cf0-7df5-4635-86bb-31f4d637f199"
      },
      "execution_count": 17,
      "outputs": [
        {
          "output_type": "stream",
          "name": "stdout",
          "text": [
            "3197\n"
          ]
        }
      ]
    },
    {
      "cell_type": "code",
      "source": [
        "#Get the models predicted price values\n",
        "predictions = model.predict(x_test)\n",
        "predictions = scaler.inverse_transform(predictions)"
      ],
      "metadata": {
        "colab": {
          "base_uri": "https://localhost:8080/"
        },
        "id": "NIsKk3d0eUdo",
        "outputId": "18ac5501-2bc8-4b7c-d916-1f6eab83077c"
      },
      "execution_count": 19,
      "outputs": [
        {
          "output_type": "stream",
          "name": "stdout",
          "text": [
            "25/25 [==============================] - 1s 42ms/step\n"
          ]
        }
      ]
    },
    {
      "cell_type": "code",
      "source": [
        "#Get the root mean sqaured error (RMSE) for the model\n",
        "rmse=np.sqrt(np.mean(((predictions- y_test)**2)))\n",
        "rmse\n"
      ],
      "metadata": {
        "colab": {
          "base_uri": "https://localhost:8080/"
        },
        "id": "ni1IUVKMem-s",
        "outputId": "390140e5-5c4b-453f-9358-915bfbf74716"
      },
      "execution_count": 20,
      "outputs": [
        {
          "output_type": "execute_result",
          "data": {
            "text/plain": [
              "140.50564053781275"
            ]
          },
          "metadata": {},
          "execution_count": 20
        }
      ]
    },
    {
      "cell_type": "code",
      "source": [
        "#plot the data\n",
        "train = data[:training_data_len]\n",
        "valid = data[training_data_len:]\n",
        "valid['predictions'] = predictions\n",
        "\n",
        "\n",
        "#Visualize the data\n",
        "plt.figure(figsize=(16,8))\n",
        "plt.title('ADANI Enterprises Prediction Model')\n",
        "plt.xlabel('Date', fontsize=18)\n",
        "plt.ylabel('Closing price INR (Rs)', fontsize=18)\n",
        "plt.plot(train['Close'])\n",
        "plt.plot(valid[['Close', 'predictions']])\n",
        "plt.legend(['Train','Valid','predictions'], loc='lower right')\n",
        "plt.show"
      ],
      "metadata": {
        "colab": {
          "base_uri": "https://localhost:8080/",
          "height": 683
        },
        "id": "AudaSw66es_Z",
        "outputId": "a038e8ed-e6bf-482f-d0d4-7f4d5943d3f5"
      },
      "execution_count": 21,
      "outputs": [
        {
          "output_type": "stream",
          "name": "stderr",
          "text": [
            "<ipython-input-21-b3631acfc1a9>:4: SettingWithCopyWarning: \n",
            "A value is trying to be set on a copy of a slice from a DataFrame.\n",
            "Try using .loc[row_indexer,col_indexer] = value instead\n",
            "\n",
            "See the caveats in the documentation: https://pandas.pydata.org/pandas-docs/stable/user_guide/indexing.html#returning-a-view-versus-a-copy\n",
            "  valid['predictions'] = predictions\n"
          ]
        },
        {
          "output_type": "execute_result",
          "data": {
            "text/plain": [
              "<function matplotlib.pyplot.show(close=None, block=None)>"
            ]
          },
          "metadata": {},
          "execution_count": 21
        },
        {
          "output_type": "display_data",
          "data": {
            "text/plain": [
              "<Figure size 1152x576 with 1 Axes>"
            ],
            "image/png": "[encoded data removed]"
          },
          "metadata": {}
        }
      ]
    },
    {
      "cell_type": "code",
      "source": [
        "#Show valid(Actual) and predicted stock prices \n",
        "valid\n"
      ],
      "metadata": {
        "colab": {
          "base_uri": "https://localhost:8080/",
          "height": 455
        },
        "id": "TFFgtKOafeTU",
        "outputId": "482abf62-d755-42db-f1f4-e03f69ec6c5b"
      },
      "execution_count": 22,
      "outputs": [
        {
          "output_type": "execute_result",
          "data": {
            "text/plain": [
              "                  Close  predictions\n",
              "Date                                \n",
              "2019-12-30   208.649994   193.514832\n",
              "2019-12-31   208.350006   192.689072\n",
              "2020-01-01   207.850006   192.060471\n",
              "2020-01-02   211.199997   191.538467\n",
              "2020-01-03   208.300003   192.038696\n",
              "...                 ...          ...\n",
              "2023-03-08  2039.650024  1649.529419\n",
              "2023-03-09  1953.150024  1771.585693\n",
              "2023-03-10  1896.199951  1835.792603\n",
              "2023-03-13  1874.400024  1851.077026\n",
              "2023-03-14  1738.199951  1840.264160\n",
              "\n",
              "[799 rows x 2 columns]"
            ],
            "text/html": [
              "\n",
              "  <div id=\"df-f7f2a9b6-3d39-4438-9cef-209451d0090e\">\n",
              "    <div class=\"colab-df-container\">\n",
              "      <div>\n",
              "<style scoped>\n",
              "    .dataframe tbody tr th:only-of-type {\n",
              "        vertical-align: middle;\n",
              "    }\n",
              "\n",
              "    .dataframe tbody tr th {\n",
              "        vertical-align: top;\n",
              "    }\n",
              "\n",
              "    .dataframe thead th {\n",
              "        text-align: right;\n",
              "    }\n",
              "</style>\n",
              "<table border=\"1\" class=\"dataframe\">\n",
              "  <thead>\n",
              "    <tr style=\"text-align: right;\">\n",
              "      <th></th>\n",
              "      <th>Close</th>\n",
              "      <th>predictions</th>\n",
              "    </tr>\n",
              "    <tr>\n",
              "      <th>Date</th>\n",
              "      <th></th>\n",
              "      <th></th>\n",
              "    </tr>\n",
              "  </thead>\n",
              "  <tbody>\n",
              "    <tr>\n",
              "      <th>2019-12-30</th>\n",
              "      <td>208.649994</td>\n",
              "      <td>193.514832</td>\n",
              "    </tr>\n",
              "    <tr>\n",
              "      <th>2019-12-31</th>\n",
              "      <td>208.350006</td>\n",
              "      <td>192.689072</td>\n",
              "    </tr>\n",
              "    <tr>\n",
              "      <th>2020-01-01</th>\n",
              "      <td>207.850006</td>\n",
              "      <td>192.060471</td>\n",
              "    </tr>\n",
              "    <tr>\n",
              "      <th>2020-01-02</th>\n",
              "      <td>211.199997</td>\n",
              "      <td>191.538467</td>\n",
              "    </tr>\n",
              "    <tr>\n",
              "      <th>2020-01-03</th>\n",
              "      <td>208.300003</td>\n",
              "      <td>192.038696</td>\n",
              "    </tr>\n",
              "    <tr>\n",
              "      <th>...</th>\n",
              "      <td>...</td>\n",
              "      <td>...</td>\n",
              "    </tr>\n",
              "    <tr>\n",
              "      <th>2023-03-08</th>\n",
              "      <td>2039.650024</td>\n",
              "      <td>1649.529419</td>\n",
              "    </tr>\n",
              "    <tr>\n",
              "      <th>2023-03-09</th>\n",
              "      <td>1953.150024</td>\n",
              "      <td>1771.585693</td>\n",
              "    </tr>\n",
              "    <tr>\n",
              "      <th>2023-03-10</th>\n",
              "      <td>1896.199951</td>\n",
              "      <td>1835.792603</td>\n",
              "    </tr>\n",
              "    <tr>\n",
              "      <th>2023-03-13</th>\n",
              "      <td>1874.400024</td>\n",
              "      <td>1851.077026</td>\n",
              "    </tr>\n",
              "    <tr>\n",
              "      <th>2023-03-14</th>\n",
              "      <td>1738.199951</td>\n",
              "      <td>1840.264160</td>\n",
              "    </tr>\n",
              "  </tbody>\n",
              "</table>\n",
              "<p>799 rows × 2 columns</p>\n",
              "</div>\n",
              "      <button class=\"colab-df-convert\" onclick=\"convertToInteractive('df-f7f2a9b6-3d39-4438-9cef-209451d0090e')\"\n",
              "              title=\"Convert this dataframe to an interactive table.\"\n",
              "              style=\"display:none;\">\n",
              "        \n",
              "  <svg xmlns=\"http://www.w3.org/2000/svg\" height=\"24px\"viewBox=\"0 0 24 24\"\n",
              "       width=\"24px\">\n",
              "    <path d=\"M0 0h24v24H0V0z\" fill=\"none\"/>\n",
              "    <path d=\"M18.56 5.44l.94 2.06.94-2.06 2.06-.94-2.06-.94-.94-2.06-.94 2.06-2.06.94zm-11 1L8.5 8.5l.94-2.06 2.06-.94-2.06-.94L8.5 2.5l-.94 2.06-2.06.94zm10 10l.94 2.06.94-2.06 2.06-.94-2.06-.94-.94-2.06-.94 2.06-2.06.94z\"/><path d=\"M17.41 7.96l-1.37-1.37c-.4-.4-.92-.59-1.43-.59-.52 0-1.04.2-1.43.59L10.3 9.45l-7.72 7.72c-.78.78-.78 2.05 0 2.83L4 21.41c.39.39.9.59 1.41.59.51 0 1.02-.2 1.41-.59l7.78-7.78 2.81-2.81c.8-.78.8-2.07 0-2.86zM5.41 20L4 18.59l7.72-7.72 1.47 1.35L5.41 20z\"/>\n",
              "  </svg>\n",
              "      </button>\n",
              "      \n",
              "  <style>\n",
              "    .colab-df-container {\n",
              "      display:flex;\n",
              "      flex-wrap:wrap;\n",
              "      gap: 12px;\n",
              "    }\n",
              "\n",
              "    .colab-df-convert {\n",
              "      background-color: #E8F0FE;\n",
              "      border: none;\n",
              "      border-radius: 50%;\n",
              "      cursor: pointer;\n",
              "      display: none;\n",
              "      fill: #1967D2;\n",
              "      height: 32px;\n",
              "      padding: 0 0 0 0;\n",
              "      width: 32px;\n",
              "    }\n",
              "\n",
              "    .colab-df-convert:hover {\n",
              "      background-color: #E2EBFA;\n",
              "      box-shadow: 0px 1px 2px rgba(60, 64, 67, 0.3), 0px 1px 3px 1px rgba(60, 64, 67, 0.15);\n",
              "      fill: #174EA6;\n",
              "    }\n",
              "\n",
              "    [theme=dark] .colab-df-convert {\n",
              "      background-color: #3B4455;\n",
              "      fill: #D2E3FC;\n",
              "    }\n",
              "\n",
              "    [theme=dark] .colab-df-convert:hover {\n",
              "      background-color: #434B5C;\n",
              "      box-shadow: 0px 1px 3px 1px rgba(0, 0, 0, 0.15);\n",
              "      filter: drop-shadow(0px 1px 2px rgba(0, 0, 0, 0.3));\n",
              "      fill: #FFFFFF;\n",
              "    }\n",
              "  </style>\n",
              "\n",
              "      <script>\n",
              "        const buttonEl =\n",
              "          document.querySelector('#df-f7f2a9b6-3d39-4438-9cef-209451d0090e button.colab-df-convert');\n",
              "        buttonEl.style.display =\n",
              "          google.colab.kernel.accessAllowed ? 'block' : 'none';\n",
              "\n",
              "        async function convertToInteractive(key) {\n",
              "          const element = document.querySelector('#df-f7f2a9b6-3d39-4438-9cef-209451d0090e');\n",
              "          const dataTable =\n",
              "            await google.colab.kernel.invokeFunction('convertToInteractive',\n",
              "                                                     [key], {});\n",
              "          if (!dataTable) return;\n",
              "\n",
              "          const docLinkHtml = 'Like what you see? Visit the ' +\n",
              "            '<a target=\"_blank\" href=https://colab.research.google.com/notebooks/data_table.ipynb>data table notebook</a>'\n",
              "            + ' to learn more about interactive tables.';\n",
              "          element.innerHTML = '';\n",
              "          dataTable['output_type'] = 'display_data';\n",
              "          await google.colab.output.renderOutput(dataTable, element);\n",
              "          const docLink = document.createElement('div');\n",
              "          docLink.innerHTML = docLinkHtml;\n",
              "          element.appendChild(docLink);\n",
              "        }\n",
              "      </script>\n",
              "    </div>\n",
              "  </div>\n",
              "  "
            ]
          },
          "metadata": {},
          "execution_count": 22
        }
      ]
    },
    {
      "cell_type": "code",
      "source": [
        "#Get the quote\n",
        "adanient_quote = yf.download('ADANIENT.NS',start='2007-01-01', end='2023-03-15')\n",
        "#Create new data frame\n",
        "new_df = adanient_quote.filter(['Close'])\n",
        "#Get the last  days closing price values and convert them into array\n",
        "last_60_days = new_df[-180:].values\n",
        "#Scale the data to be values between 0 and 1\n",
        "last_60_days_scaled = scaler.transform(last_60_days)"
      ],
      "metadata": {
        "colab": {
          "base_uri": "https://localhost:8080/"
        },
        "id": "3wjSTP6-sQXW",
        "outputId": "c732f353-dce8-4846-c76e-d9340dd23c2a"
      },
      "execution_count": 58,
      "outputs": [
        {
          "output_type": "stream",
          "name": "stdout",
          "text": [
            "\r[*********************100%***********************]  1 of 1 completed\n"
          ]
        }
      ]
    },
    {
      "cell_type": "code",
      "source": [
        "#Create an empty list\n",
        "X_test = []\n",
        "#Append past 60 days data\n",
        "X_test.append(last_60_days_scaled)"
      ],
      "metadata": {
        "id": "La4VD7LpscfO"
      },
      "execution_count": 59,
      "outputs": []
    },
    {
      "cell_type": "code",
      "source": [
        "#Convert the X_Test dataset to numpy array \n",
        "X_test=np.array(X_test)"
      ],
      "metadata": {
        "id": "6f6a0o2Vsgnn"
      },
      "execution_count": 60,
      "outputs": []
    },
    {
      "cell_type": "code",
      "source": [
        "#Reshape the 2D data into 3D array\n",
        "X_test = np.reshape(X_test,(X_test.shape[0],X_test.shape[1],1))"
      ],
      "metadata": {
        "id": "_3h0RGU4sj1J"
      },
      "execution_count": 61,
      "outputs": []
    },
    {
      "cell_type": "code",
      "source": [
        "#Get the predicted scaled price\n",
        "pred_price = model.predict(X_test,verbose='auto')\n"
      ],
      "metadata": {
        "colab": {
          "base_uri": "https://localhost:8080/"
        },
        "id": "fi8WMHqksm4R",
        "outputId": "e2db19bd-8a9d-494e-8b53-a830d16ae13b"
      },
      "execution_count": 63,
      "outputs": [
        {
          "output_type": "stream",
          "name": "stdout",
          "text": [
            "1/1 [==============================] - 0s 50ms/step\n"
          ]
        }
      ]
    },
    {
      "cell_type": "code",
      "source": [
        "#Undo Scaling\n",
        "pred_price = scaler.inverse_transform(pred_price)\n",
        "print(pred_price)"
      ],
      "metadata": {
        "colab": {
          "base_uri": "https://localhost:8080/"
        },
        "id": "9V7mJ1m3spNo",
        "outputId": "2db80321-2512-4d4b-a78b-cd30128e30f9"
      },
      "execution_count": 64,
      "outputs": [
        {
          "output_type": "stream",
          "name": "stdout",
          "text": [
            "[[1788.645]]\n"
          ]
        }
      ]
    },
    {
      "cell_type": "code",
      "source": [
        "#Get the root mean sqaured error (RMSE) for the model\n",
        "rmse=np.sqrt(np.mean(((predictions- y_test)**2)))\n",
        "rmse"
      ],
      "metadata": {
        "colab": {
          "base_uri": "https://localhost:8080/"
        },
        "id": "gD5C8Xe6vDDm",
        "outputId": "4e16a3b0-906a-43cb-b4b1-410f4bde38ea"
      },
      "execution_count": 70,
      "outputs": [
        {
          "output_type": "execute_result",
          "data": {
            "text/plain": [
              "140.50564053781275"
            ]
          },
          "metadata": {},
          "execution_count": 70
        }
      ]
    },
    {
      "cell_type": "code",
      "source": [
        "#Get the quote\n",
        "adanient_quote2 = yf.download('ADANIENT.NS',start='2023-03-16', end='2023-03-18')\n",
        "print(adanient_quote2)"
      ],
      "metadata": {
        "colab": {
          "base_uri": "https://localhost:8080/"
        },
        "id": "f8Jf1eZVs9Ua",
        "outputId": "7ec9e923-3b24-4d12-c1a7-34157f04c0d0"
      },
      "execution_count": 75,
      "outputs": [
        {
          "output_type": "stream",
          "name": "stdout",
          "text": [
            "\r[*********************100%***********************]  1 of 1 completed\n",
            "              Open         High     Low        Close    Adj Close   Volume\n",
            "Date                                                                      \n",
            "2023-03-16  1861.0  1875.000000  1795.0  1843.800049  1843.800049  6509495\n",
            "2023-03-17  1901.0  1918.849976  1845.0  1876.550049  1876.550049  5964875\n"
          ]
        }
      ]
    }
  ]
}